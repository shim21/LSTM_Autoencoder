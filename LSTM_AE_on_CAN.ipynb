{
 "metadata": {
  "language_info": {
   "codemirror_mode": {
    "name": "ipython",
    "version": 3
   },
   "file_extension": ".py",
   "mimetype": "text/x-python",
   "name": "python",
   "nbconvert_exporter": "python",
   "pygments_lexer": "ipython3",
   "version": "3.6.10-final"
  },
  "orig_nbformat": 2,
  "kernelspec": {
   "name": "Python 3.6.10 64-bit ('junseok': conda)",
   "display_name": "Python 3.6.10 64-bit ('junseok': conda)",
   "metadata": {
    "interpreter": {
     "hash": "8e9b97e89eda9bc40c606de7a4c11206d1d8e028dad0564d0bd09b00f403b4aa"
    }
   }
  }
 },
 "nbformat": 4,
 "nbformat_minor": 2,
 "cells": [
  {
   "cell_type": "code",
   "execution_count": 1,
   "metadata": {},
   "outputs": [],
   "source": [
    "import os\n",
    "import pprint\n",
    "\n",
    "import matplotlib.pyplot as plt\n",
    "import numpy as np\n",
    "import pandas as pd\n",
    "import seaborn as sns\n",
    "import tensorflow as tf\n",
    "from sklearn.model_selection import train_test_split\n",
    "\n",
    "os.environ[\"CUDA_VISIBLE_DEVICES\"] = \"0,1\""
   ]
  },
  {
   "cell_type": "code",
   "execution_count": 2,
   "metadata": {
    "tags": []
   },
   "outputs": [
    {
     "output_type": "stream",
     "name": "stdout",
     "text": [
      "['Cybersecurity_Car_Hacking_D_training-0.csv', 'Cybersecurity_Car_Hacking_D_training-1.csv', 'Cybersecurity_Car_Hacking_D_training-2.csv', 'Cybersecurity_Car_Hacking_S_training-0.csv', 'Cybersecurity_Car_Hacking_S_training-1.csv', 'Cybersecurity_Car_Hacking_S_training-2.csv']\n"
     ]
    }
   ],
   "source": [
    "dataset_path = \"C:/Users/user/Desktop/[사이버 보안 챌린지 2020] 자동차 해킹공격방어_데이터셋/학습용 데이터셋\"\n",
    "print(os.listdir(dataset_path))"
   ]
  },
  {
   "cell_type": "code",
   "execution_count": 3,
   "metadata": {},
   "outputs": [
    {
     "output_type": "execute_result",
     "data": {
      "text/plain": [
       "      Timestamp Arbitration_ID  DLC                     Data   Class\n",
       "0  1.597708e+09            260    8  06 25 05 30 FF CF 71 55  Normal\n",
       "1  1.597708e+09            329    8  4A C5 7E 8C 31 2D 01 10  Normal\n",
       "2  1.597708e+09            38D    8  00 00 49 00 90 7F FE 01  Normal\n",
       "3  1.597708e+09            420    8  50 1E 00 C8 FC 4F 6A 00  Normal\n",
       "4  1.597708e+09            421    8  FE 07 00 FF E3 7F 00 52  Normal"
      ],
      "text/html": "<div>\n<style scoped>\n    .dataframe tbody tr th:only-of-type {\n        vertical-align: middle;\n    }\n\n    .dataframe tbody tr th {\n        vertical-align: top;\n    }\n\n    .dataframe thead th {\n        text-align: right;\n    }\n</style>\n<table border=\"1\" class=\"dataframe\">\n  <thead>\n    <tr style=\"text-align: right;\">\n      <th></th>\n      <th>Timestamp</th>\n      <th>Arbitration_ID</th>\n      <th>DLC</th>\n      <th>Data</th>\n      <th>Class</th>\n    </tr>\n  </thead>\n  <tbody>\n    <tr>\n      <th>0</th>\n      <td>1.597708e+09</td>\n      <td>260</td>\n      <td>8</td>\n      <td>06 25 05 30 FF CF 71 55</td>\n      <td>Normal</td>\n    </tr>\n    <tr>\n      <th>1</th>\n      <td>1.597708e+09</td>\n      <td>329</td>\n      <td>8</td>\n      <td>4A C5 7E 8C 31 2D 01 10</td>\n      <td>Normal</td>\n    </tr>\n    <tr>\n      <th>2</th>\n      <td>1.597708e+09</td>\n      <td>38D</td>\n      <td>8</td>\n      <td>00 00 49 00 90 7F FE 01</td>\n      <td>Normal</td>\n    </tr>\n    <tr>\n      <th>3</th>\n      <td>1.597708e+09</td>\n      <td>420</td>\n      <td>8</td>\n      <td>50 1E 00 C8 FC 4F 6A 00</td>\n      <td>Normal</td>\n    </tr>\n    <tr>\n      <th>4</th>\n      <td>1.597708e+09</td>\n      <td>421</td>\n      <td>8</td>\n      <td>FE 07 00 FF E3 7F 00 52</td>\n      <td>Normal</td>\n    </tr>\n  </tbody>\n</table>\n</div>"
     },
     "metadata": {},
     "execution_count": 3
    }
   ],
   "source": [
    "D_normal_dfs = []\n",
    "D_normal_dfs.append(pd.read_csv(os.path.join(dataset_path,\"Cybersecurity_Car_Hacking_D_training-0.csv\")))\n",
    "D_normal_dfs=pd.concat(D_normal_dfs)\n",
    "D_normal_dfs.head()"
   ]
  },
  {
   "source": [
    "# LSTM Autoencoder\n",
    "Sequence 데이터에 Encoder-Decoder LSTM 아키텍처를 적용하여 구현한 모델\n"
   ],
   "cell_type": "markdown",
   "metadata": {}
  },
  {
   "cell_type": "code",
   "execution_count": 4,
   "metadata": {},
   "outputs": [],
   "source": [
    "can_id = D_normal_dfs[\"Arbitration_ID\"]\n",
    "sequences = can_id.apply(lambda x: int(str(x), 16))"
   ]
  },
  {
   "cell_type": "code",
   "execution_count": 5,
   "metadata": {},
   "outputs": [],
   "source": [
    "sequences=np.array(sequences)"
   ]
  },
  {
   "cell_type": "code",
   "execution_count": 9,
   "metadata": {
    "tags": []
   },
   "outputs": [
    {
     "output_type": "error",
     "ename": "ValueError",
     "evalue": "cannot reshape array of size 179346 into shape (1,1,1)",
     "traceback": [
      "\u001b[1;31m---------------------------------------------------------------------------\u001b[0m",
      "\u001b[1;31mValueError\u001b[0m                                Traceback (most recent call last)",
      "\u001b[1;32m<ipython-input-9-e06f623b22b5>\u001b[0m in \u001b[0;36m<module>\u001b[1;34m\u001b[0m\n\u001b[0;32m      5\u001b[0m \u001b[1;33m\u001b[0m\u001b[0m\n\u001b[0;32m      6\u001b[0m \u001b[0mn_in\u001b[0m \u001b[1;33m=\u001b[0m \u001b[0mlen\u001b[0m\u001b[1;33m(\u001b[0m\u001b[0msequences\u001b[0m\u001b[1;33m)\u001b[0m\u001b[1;33m\u001b[0m\u001b[1;33m\u001b[0m\u001b[0m\n\u001b[1;32m----> 7\u001b[1;33m \u001b[0msequences\u001b[0m \u001b[1;33m=\u001b[0m \u001b[0msequences\u001b[0m\u001b[1;33m.\u001b[0m\u001b[0mreshape\u001b[0m\u001b[1;33m(\u001b[0m\u001b[1;33m(\u001b[0m\u001b[1;36m1\u001b[0m\u001b[1;33m,\u001b[0m \u001b[0mn_in\u001b[0m\u001b[1;33m,\u001b[0m \u001b[1;36m1\u001b[0m\u001b[1;33m)\u001b[0m\u001b[1;33m)\u001b[0m\u001b[1;33m\u001b[0m\u001b[1;33m\u001b[0m\u001b[0m\n\u001b[0m\u001b[0;32m      8\u001b[0m     \u001b[1;31m#n_in = len(semi_sequences)\u001b[0m\u001b[1;33m\u001b[0m\u001b[1;33m\u001b[0m\u001b[1;33m\u001b[0m\u001b[0m\n\u001b[0;32m      9\u001b[0m     \u001b[1;31m#semi_sequences = np.expand_dims(semi_sequences, axis=0)\u001b[0m\u001b[1;33m\u001b[0m\u001b[1;33m\u001b[0m\u001b[1;33m\u001b[0m\u001b[0m\n",
      "\u001b[1;31mValueError\u001b[0m: cannot reshape array of size 179346 into shape (1,1,1)"
     ]
    }
   ],
   "source": [
    "from tensorflow.keras import Model, models, layers, optimizers, utils\n",
    "\n",
    "#semi_sequences1 = np.array([100,200,300,400,500,600,700,800,900])\n",
    "# ===== reshape input into [samples, timesteps, features] =====\n",
    "n_in = len(sequences)\n",
    "sequences = sequences.reshape((1, n_in, 1))\n",
    "    #n_in = len(semi_sequences)\n",
    "    #semi_sequences = np.expand_dims(semi_sequences, axis=0)\n",
    "    #semi_sequences = semi_sequences.reshape((1, n_in, 1))\n",
    "    #semi_sequences = np.expand_dims(semi_sequences, axis=2)\n",
    "# ===== prepare output sequence =====\n",
    "  #semi_sequences_out = semi_sequences[:, 1:, :]\n",
    "sequences_out = sequences[:, 1:, :]\n",
    "n_out = n_in - 1\n",
    "\n",
    "# ===== define model =====\n",
    "model = models.Sequential()\n",
    "model.add(layers.LSTM(100, activation='relu', input_shape=(n_in, 1)))\n",
    "model.add(layers.RepeatVector(n_out))\n",
    "model.add(layers.LSTM(100, activation='relu', return_sequences=True))\n",
    "model.add(layers.TimeDistributed(layers.Dense(1)))\n",
    "model.compile(optimizer='adam', loss='mse')\n"
   ]
  },
  {
   "cell_type": "code",
   "execution_count": 8,
   "metadata": {},
   "outputs": [
    {
     "output_type": "stream",
     "name": "stdout",
     "text": [
      "Model: \"sequential\"\n_________________________________________________________________\nLayer (type)                 Output Shape              Param #   \n=================================================================\nlstm (LSTM)                  (None, 100)               40800     \n_________________________________________________________________\nrepeat_vector (RepeatVector) (None, 179345, 100)       0         \n_________________________________________________________________\nlstm_1 (LSTM)                (None, 179345, 100)       80400     \n_________________________________________________________________\ntime_distributed (TimeDistri (None, 179345, 1)         101       \n=================================================================\nTotal params: 121,301\nTrainable params: 121,301\nNon-trainable params: 0\n_________________________________________________________________\n"
     ]
    }
   ],
   "source": [
    "model.summary()"
   ]
  },
  {
   "cell_type": "code",
   "execution_count": 7,
   "metadata": {},
   "outputs": [],
   "source": [
    "# ===== fit model =====\n",
    "model.fit(semi_sequences, semi_sequences_out, epochs=1000, verbose=0)\n",
    "# ===== predict =====\n",
    "yhat = model.predict(semi_sequences)"
   ]
  },
  {
   "cell_type": "code",
   "execution_count": 7,
   "metadata": {},
   "outputs": [
    {
     "output_type": "execute_result",
     "data": {
      "text/plain": [
       "179346"
      ]
     },
     "metadata": {},
     "execution_count": 7
    }
   ],
   "source": [
    "sequences.shape[1]"
   ]
  }
 ]
}